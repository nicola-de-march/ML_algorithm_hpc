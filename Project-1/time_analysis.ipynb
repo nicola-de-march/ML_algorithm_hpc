{
 "cells": [
  {
   "cell_type": "code",
   "execution_count": 1,
   "metadata": {},
   "outputs": [],
   "source": [
    "import pandas as pd\n",
    "import seaborn as sns\n",
    "import matplotlib.pyplot as plt"
   ]
  },
  {
   "cell_type": "markdown",
   "metadata": {},
   "source": [
    "### Load the data from `mpi_knn_results.csv` file into a dataframe."
   ]
  },
  {
   "cell_type": "code",
   "execution_count": 2,
   "metadata": {},
   "outputs": [
    {
     "data": {
      "text/html": [
       "<div>\n",
       "<style scoped>\n",
       "    .dataframe tbody tr th:only-of-type {\n",
       "        vertical-align: middle;\n",
       "    }\n",
       "\n",
       "    .dataframe tbody tr th {\n",
       "        vertical-align: top;\n",
       "    }\n",
       "\n",
       "    .dataframe thead th {\n",
       "        text-align: right;\n",
       "    }\n",
       "</style>\n",
       "<table border=\"1\" class=\"dataframe\">\n",
       "  <thead>\n",
       "    <tr style=\"text-align: right;\">\n",
       "      <th></th>\n",
       "      <th>Processes</th>\n",
       "      <th>Dataset dimension</th>\n",
       "      <th>Test dimension</th>\n",
       "      <th>Execution time [s]</th>\n",
       "    </tr>\n",
       "  </thead>\n",
       "  <tbody>\n",
       "    <tr>\n",
       "      <th>0</th>\n",
       "      <td>10</td>\n",
       "      <td>100000</td>\n",
       "      <td>100</td>\n",
       "      <td>10.717087</td>\n",
       "    </tr>\n",
       "    <tr>\n",
       "      <th>1</th>\n",
       "      <td>10</td>\n",
       "      <td>100000</td>\n",
       "      <td>100</td>\n",
       "      <td>10.586725</td>\n",
       "    </tr>\n",
       "    <tr>\n",
       "      <th>2</th>\n",
       "      <td>10</td>\n",
       "      <td>100000</td>\n",
       "      <td>100</td>\n",
       "      <td>10.596978</td>\n",
       "    </tr>\n",
       "    <tr>\n",
       "      <th>3</th>\n",
       "      <td>10</td>\n",
       "      <td>100000</td>\n",
       "      <td>100</td>\n",
       "      <td>10.701059</td>\n",
       "    </tr>\n",
       "    <tr>\n",
       "      <th>4</th>\n",
       "      <td>10</td>\n",
       "      <td>100000</td>\n",
       "      <td>100</td>\n",
       "      <td>10.648635</td>\n",
       "    </tr>\n",
       "  </tbody>\n",
       "</table>\n",
       "</div>"
      ],
      "text/plain": [
       "   Processes  Dataset dimension  Test dimension  Execution time [s]\n",
       "0         10             100000             100           10.717087\n",
       "1         10             100000             100           10.586725\n",
       "2         10             100000             100           10.596978\n",
       "3         10             100000             100           10.701059\n",
       "4         10             100000             100           10.648635"
      ]
     },
     "execution_count": 2,
     "metadata": {},
     "output_type": "execute_result"
    }
   ],
   "source": [
    "column_names = [\"Processes\", \"Dataset dimension\", \"Test dimension\", \"Execution time [s]\"]\n",
    "df = pd.read_csv(\"mpi_knn_results.csv\", header=None, names=column_names)\n",
    "df.head()"
   ]
  },
  {
   "cell_type": "markdown",
   "metadata": {},
   "source": [
    "### Filter the data "
   ]
  },
  {
   "cell_type": "code",
   "execution_count": 3,
   "metadata": {},
   "outputs": [
    {
     "data": {
      "text/plain": [
       "Processes\n",
       "10     103.304363\n",
       "20      52.194123\n",
       "40      26.719639\n",
       "50      21.443901\n",
       "100     10.850946\n",
       "200      6.365375\n",
       "Name: Execution time [s], dtype: float64"
      ]
     },
     "execution_count": 3,
     "metadata": {},
     "output_type": "execute_result"
    }
   ],
   "source": [
    "df_1000 = df.loc[df[\"Test dimension\"] == 1000]\n",
    "average_time = df_1000.groupby(\"Processes\")[\"Execution time [s]\"].mean()\n",
    "average_time"
   ]
  },
  {
   "cell_type": "markdown",
   "metadata": {},
   "source": [
    "### Compute standard deviation over 30 runs"
   ]
  },
  {
   "cell_type": "code",
   "execution_count": 4,
   "metadata": {},
   "outputs": [
    {
     "data": {
      "text/plain": [
       "Processes\n",
       "10     0.643076\n",
       "20     0.511869\n",
       "40     0.522759\n",
       "50     0.501496\n",
       "100    0.053849\n",
       "200    0.075921\n",
       "Name: Execution time [s], dtype: float64"
      ]
     },
     "execution_count": 4,
     "metadata": {},
     "output_type": "execute_result"
    }
   ],
   "source": [
    "std_dev_time = df_1000.groupby(\"Processes\")[\"Execution time [s]\"].std()\n",
    "std_dev_time"
   ]
  },
  {
   "cell_type": "markdown",
   "metadata": {},
   "source": [
    "### Plot the result"
   ]
  },
  {
   "cell_type": "code",
   "execution_count": 5,
   "metadata": {},
   "outputs": [
    {
     "data": {
      "image/png": "[encoded data removed]",
      "text/plain": [
       "<Figure size 576x432 with 1 Axes>"
      ]
     },
     "metadata": {
      "needs_background": "light"
     },
     "output_type": "display_data"
    }
   ],
   "source": [
    "plt.figure(figsize=(8, 6))\n",
    "sns.lineplot(average_time)\n",
    "plt.xlabel(\"Number of Processes\")\n",
    "plt.ylabel(\"Average Execution Time [s]\")\n",
    "plt.title(\"Average Execution Time per Number of Processes\")\n",
    "plt.grid()\n",
    "plt.show()\n"
   ]
  }
 ],
 "metadata": {
  "kernelspec": {
   "display_name": "ai_imaging",
   "language": "python",
   "name": "python3"
  },
  "language_info": {
   "codemirror_mode": {
    "name": "ipython",
    "version": 3
   },
   "file_extension": ".py",
   "mimetype": "text/x-python",
   "name": "python",
   "nbconvert_exporter": "python",
   "pygments_lexer": "ipython3",
   "version": "3.9.20"
  }
 },
 "nbformat": 4,
 "nbformat_minor": 2
}
